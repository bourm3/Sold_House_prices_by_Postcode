{
 "cells": [
  {
   "cell_type": "markdown",
   "metadata": {},
   "source": [
    "# Analysing the Results from a Parkrun Event\n",
    "\n",
    "Mike Bourne - PGCert Data Science Student \n"
   ]
  },
  {
   "cell_type": "markdown",
   "metadata": {},
   "source": [
    "### Background\n",
    "\n",
    "Parkrun is one of the largest running events on the planet, every weekend attracting more than four million runners(1). Bushy Park is where this event originally started back in 2014 and from humble beginnings(2), now regularly attracts over 1,400 participants every single week.\n",
    "\n",
    "This project is going to analysis data from a summer event at Bushy Park in early 2020 and compare it to a summer event which took place at the same place 6 months earlier.\n",
    "\n",
    "### Aim\n",
    "\n",
    "The aim of this project is to understand the following:\n",
    "  \n",
    "  (1) What is the demographics of people taking part in a Bushy Parkrun event. In particular:\n",
    " \n",
    "      (i) Is this a young persons activity?\n",
    "      (ii) Does one gender take part more than another?\n",
    "      (iii) Do people run once or often?\n",
    "  \n",
    "  (2) Is there a seasonal variation in the running times of regular partcipants? I.e. are people slower in the winter?\n",
    " \n",
    "        \n",
    "This information could be useful for sponsors, who may be looking to target particular sections of the population. Alternatively, insurance companies could use this information to determine whether Parkrun runners are committed enough to a healthy lifestyle to warrant a lower health risk profile on their insurance premiums.\n",
    "\n",
    "\n",
    "### Database\n",
    "This project is going to scratch data from the parkrun.com website. I'm going to take a look at the bushy park 5km which took place on the 25/01/2020. \n",
    "\n",
    "Heres a link to the page:\n",
    "https://www.parkrun.org.uk/bushy/results/weeklyresults/?runSeqNumber=827.\n",
    "\n",
    "The webpage contains a table of results for the run with the following columns: POSITION, PARKRUNNER, GENDER, AGE GROUP, CLUB, TIME\n",
    "\n",
    "\n",
    "Later on I will compare one event wtih another to see how times compare between winter and summer for those runners who took part on both days, but initially I will concentrate on loading the dataset from the run on the 25/01/2020 (the winter data).\n",
    "\n",
    "### Scratching the Required Data from the Website\n",
    "\n",
    "I am using BeautifulSoup to do the data extraction from the website"
   ]
  },
  {
   "cell_type": "code",
   "execution_count": 3,
   "metadata": {},
   "outputs": [],
   "source": [
    "import requests\n",
    "from bs4 import BeautifulSoup\n",
    "\n",
    "#input race-number. \n",
    "#racenumber = '798'  #  25/01/2020  - this is the summer events which will be used later\n",
    "racenumber = '827'  #  25/01/2020  - this is the winter event to be used for the data analysis\n",
    "\n",
    "\n",
    "#Use this race-number to generate a parkrun results webpage for bushy park\n",
    "webaddress = 'https://www.parkrun.org.uk/bushy/results/weeklyresults/?runSeqNumber=' + racenumber \n",
    "    \n",
    "webpage = requests.get(webaddress, headers={'User-agent': 'Mozilla/5.0 (X11; Ubuntu; Linux x86_64; rv:61.0) Gecko/20100101 Firefox/61.0'})\n",
    "web_content = webpage.content\n",
    "soup = BeautifulSoup(web_content,\"html.parser\")\n"
   ]
  },
  {
   "cell_type": "markdown",
   "metadata": {},
   "source": [
    "From the captured webpage (soup), I next find the records for all the individual runners (all_records). From the webpage it is clear that there are 1527 in total."
   ]
  },
  {
   "cell_type": "code",
   "execution_count": 4,
   "metadata": {},
   "outputs": [
    {
     "data": {
      "text/plain": [
       "1527"
      ]
     },
     "execution_count": 4,
     "metadata": {},
     "output_type": "execute_result"
    }
   ],
   "source": [
    "all_records=soup.find_all('tr',{'class':\"Results-table-row\"})\n",
    "len(all_records)"
   ]
  },
  {
   "cell_type": "code",
   "execution_count": 5,
   "metadata": {},
   "outputs": [
    {
     "data": {
      "text/plain": [
       "'<tr class=\"Results-table-row\" data-achievement=\"\" data-agegrade=\"83.23\" data-agegroup=\"SM25-29\" data-club=\"Cardiff AAC\" data-gender=\"Male\" data-name=\"Rowan AXE\" data-position=\"1\" data-runs=\"38\"><td class=\"Results-table-td Results-table-td--position\">1</td><td class=\"Results-table-td Results-table-td--name\"><div class=\"compact\"><a href=\"athletehistory?athleteNumber=51670\" target=\"_top\">Rowan AXE</a></div><div class=\"detailed\">38\\xa0\\n                    parkruns<span class=\"Results-tablet Results-tablet--inline\"><span class=\"spacer\"> | </span><span class=\"Results-table--M\">\\n                              Male\\n                            </span>1<span class=\"Results-table--genderCount\" data-gender=\"Male\">\\n                          \\xa0\\n                        </span></span></div><div class=\"Results-tablet\"><div class=\"detailed\"><a href=\"../agecategorytable/?ageCat=SM25-29\">SM25-29</a><span class=\"spacer\"> | </span>83.23%\\n                      </div></div><div class=\"Results-table-club Results-tablet\"><div class=\"detailed\"><a href=\"../clubhistory?clubNum=2233\">Cardiff AAC</a></div></div></td><td class=\"Results-table-td Results-table-td--gender Results-table-td--M\"><div class=\"compact\">\\n                        Male\\n                      </div><div class=\"detailed\">1<span class=\"Results-table--genderCount\" data-gender=\"Male\">\\n                        \\xa0\\n                      </span></div></td><td class=\"Results-table-td Results-table-td--ageGroup\"><div class=\"compact\"><a href=\"../agecategorytable/?ageCat=SM25-29\">SM25-29</a></div><div class=\"detailed\">83.23% age grade</div></td><td class=\"Results-table-td Results-table-td--club\"><div class=\"compact\"><a href=\"../clubhistory?clubNum=2233\">Cardiff AAC</a></div></td><td class=\"Results-table-td Results-table-td--time\"><div class=\"compact\">15:30</div><div class=\"detailed\"><span class=\"Results-table--normal\">PB</span>\\xa014:52</div></td></tr>'"
      ]
     },
     "execution_count": 5,
     "metadata": {},
     "output_type": "execute_result"
    }
   ],
   "source": [
    "#lets look at the first entry in the list\n",
    "str(all_records[0])"
   ]
  },
  {
   "cell_type": "markdown",
   "metadata": {},
   "source": [
    "A function to convert a time variable (string) into time in minutes (float). I will use the regular expression (re) package (3) within this function. "
   ]
  },
  {
   "cell_type": "code",
   "execution_count": 6,
   "metadata": {},
   "outputs": [],
   "source": [
    "import re\n",
    "\n",
    "def convert_time(input):\n",
    "    no = re.findall(r'[0-9]+',input) \n",
    "    #check if in format [00:00], i.e. mins and secs\n",
    "    if( len(no) == 2):\n",
    "        time = int(no[0]) + int(no[1])/60\n",
    "    #or if in format [00:00:00], i.e. hours, mins and secs\n",
    "    else:\n",
    "        time = int(no[0])*60 + int(no[1]) + int(no[2])/60\n",
    "    #return time in mins, as an int\n",
    "    return(time)"
   ]
  },
  {
   "cell_type": "markdown",
   "metadata": {},
   "source": [
    "### Data Manipulation in Python\n",
    "\n",
    "Now I have the records captured from the website I next will extract the details for each runner from this soup and use this information to create a list containing the data from all runners as individual entries."
   ]
  },
  {
   "cell_type": "code",
   "execution_count": 23,
   "metadata": {},
   "outputs": [],
   "source": [
    "#Create a list to store the runners details \n",
    "athlete_list = []\n",
    "\n",
    "#For each indivudal record in the soup\n",
    "for i in range(0,len(all_records)):\n",
    "\n",
    "   \n",
    "    #Captured the data from the table in the following list\n",
    "    tabledata = all_records[i].find_all('div',{'class':\"compact\"})\n",
    "\n",
    "    # Check whether the entry is valid. Fom the website some people had\n",
    "    # not registered their details and thus were classified as 'Unknown' runners.\n",
    "    # I'm going to ignore any 'Unknown' runners since there is no further data for these people\n",
    "    if(tabledata[0].text != 'Unknown'):\n",
    "        \n",
    "        #create a dictionary for this particular runners details\n",
    "        d={} \n",
    "        \n",
    "        #tabledata[0] is the name of the runner\n",
    "        d[\"name\"] = tabledata[0].text\n",
    " \n",
    "        #tabledata[1] is the string related to whether they are Male or Female\n",
    "        gender_string = tabledata[1].text\n",
    "        d['gender'] = re.findall(r'[M|F][a-z]+',gender_string)[0]     \n",
    "\n",
    "\n",
    "        #tabledata[2] is a string related to their running category\n",
    "        #             this is in the format SM20-25 or similar\n",
    "        category_id = tabledata[2].text\n",
    "\n",
    "        #test to see if there are 4 entries for this runner\n",
    "        try:  \n",
    "            # if so, tabledata[3] is their club name and tabledate[4] is their race time\n",
    "            d[\"club\"] = tabledata[3].text\n",
    "            d['time'] = convert_time(tabledata[4].text)    \n",
    "   \n",
    "        # if not, this runner is not a member of a club and tabledata[3] is their race time\n",
    "        except:\n",
    "            d['time'] = convert_time(tabledata[3].text)\n",
    "            d[\"club\"] = 'None'\n",
    "        \n",
    "                \n",
    "        # divide class_id into group (e.g. j=junior, s= senior, v=veteran)\n",
    "        #   and the age range for the runner (e.g. 30-40)\n",
    "        d['group'] = category_id[0]\n",
    "        d['age_range'] = category_id[2:]\n",
    "        \n",
    "        #the age data is usual in a range (e.g. 30-34) - create a mid-point age within the range\n",
    "        try:\n",
    "            d['mid_age_range'] = (int(d['age_range'][3:]) - int(d['age_range'][0:2])) /2  + int(d['age_range'][0:2])\n",
    "        #capture the exceptions, where the runnner is aged 10, or no data is present\n",
    "        except:\n",
    "            if(d['age_range'] == '10'):  d['mid_age_range'] = 10\n",
    "            else: pass\n",
    "        \n",
    "        #finally capture their position in the race\n",
    "        d['position'] = i+1\n",
    "        \n",
    "        #During my intial look at the html source code, I noticed that other information\n",
    "        # is also present in the code but not plotted up on the actual table on the website,\n",
    "        #lets grap some of this data as well!\n",
    "        \n",
    "        #Personal Best data is very often present, see if it can be loaded for this runner AT THIS EVENT\n",
    "        d[\"bp_first_timer\"] = False\n",
    "        try:\n",
    "            pb = all_records[i].find_all('div',{'class':\"detailed\"})[-1].text[3:]\n",
    "            #set pb to be time if its indicated this this is a new PB\n",
    "            if(pb[-3:] == 'PB!'): d['pb'] = d['time']\n",
    "            \n",
    "            #set pb and the first_time flag to true, if this is there first ever run\n",
    "            elif(pb[-3:] == 'er!'): \n",
    "                d['pb'] = d['time']\n",
    "                d['bp_first_timer'] = True\n",
    "            \n",
    "            #otherwise the entry is the runners personal best time (pb). Use function to convert to mins.\n",
    "            else:\n",
    "                d['pb'] = convert_time(pb)\n",
    "           \n",
    "\n",
    "   \n",
    "        #make the entry blank where no data is present\n",
    "        except:\n",
    "            d['pb'] = ''\n",
    "    \n",
    "        #no_runs captures the number of events that the person has taken part in \n",
    "        no_runs = re.findall(r'data-runs=\"[0-9]+\"',str(all_records[i]) )\n",
    "        d['no_runs'] = int(re.findall(r'[0-9]+',str(no_runs))[0])\n",
    "\n",
    "        #athleteNo is the parkrun id for the runner (we will use this later)\n",
    "        athleteNumber = re.findall(r'athleteNumber=[0-9.]+',str(all_records[i]) )\n",
    "        d['athleteNo'] = int(re.findall(r'[0-9.]+',str(athleteNumber))[0])\n",
    "        \n",
    "        #  ***TO DO******\n",
    "        age_grade = re.findall(r'[0-9.]+% age grade',str(all_records[i]) )\n",
    "        try:\n",
    "            d['age_grade'] = re.findall(r'[0-9.]+',str(age_grade))[0]\n",
    "        except:\n",
    "            d['age_grade'] = '' \n",
    "            pass\n",
    "            \n",
    "     #   athlete = Athlete(name,sex,group,age_range,club,time,position,pb,first_timer,no_runs,age_grade,athleteNumber)\n",
    "        \n",
    "        #finally add this runners details to the athlete_list\n",
    "        athlete_list.append(d)\n"
   ]
  },
  {
   "cell_type": "markdown",
   "metadata": {},
   "source": [
    "## Creation of a Dataframe\n",
    "\n",
    "Next, I am going to create a panda dataframe and write out my newly formated data to a csv file. \n",
    "\n",
    "The dataframe has more details than the original table on the website since I have captured all the extra hidden informal contained in various headers and have split out others during my data manipulation."
   ]
  },
  {
   "cell_type": "code",
   "execution_count": 24,
   "metadata": {
    "scrolled": true
   },
   "outputs": [
    {
     "data": {
      "text/html": [
       "<div>\n",
       "<style scoped>\n",
       "    .dataframe tbody tr th:only-of-type {\n",
       "        vertical-align: middle;\n",
       "    }\n",
       "\n",
       "    .dataframe tbody tr th {\n",
       "        vertical-align: top;\n",
       "    }\n",
       "\n",
       "    .dataframe thead th {\n",
       "        text-align: right;\n",
       "    }\n",
       "</style>\n",
       "<table border=\"1\" class=\"dataframe\">\n",
       "  <thead>\n",
       "    <tr style=\"text-align: right;\">\n",
       "      <th></th>\n",
       "      <th>name</th>\n",
       "      <th>gender</th>\n",
       "      <th>club</th>\n",
       "      <th>time</th>\n",
       "      <th>group</th>\n",
       "      <th>age_range</th>\n",
       "      <th>mid_age_range</th>\n",
       "      <th>position</th>\n",
       "      <th>bp_first_timer</th>\n",
       "      <th>pb</th>\n",
       "      <th>no_runs</th>\n",
       "      <th>athleteNo</th>\n",
       "      <th>age_grade</th>\n",
       "    </tr>\n",
       "  </thead>\n",
       "  <tbody>\n",
       "    <tr>\n",
       "      <th>0</th>\n",
       "      <td>Rowan AXE</td>\n",
       "      <td>Male</td>\n",
       "      <td>Cardiff AAC</td>\n",
       "      <td>15.500000</td>\n",
       "      <td>S</td>\n",
       "      <td>25-29</td>\n",
       "      <td>27.0</td>\n",
       "      <td>1</td>\n",
       "      <td>False</td>\n",
       "      <td>14.866667</td>\n",
       "      <td>38</td>\n",
       "      <td>51670</td>\n",
       "      <td>83.23</td>\n",
       "    </tr>\n",
       "    <tr>\n",
       "      <th>1</th>\n",
       "      <td>Stefanos STEPHANOU</td>\n",
       "      <td>Male</td>\n",
       "      <td>Richmond &amp; Zetland Harriers</td>\n",
       "      <td>17.216667</td>\n",
       "      <td>S</td>\n",
       "      <td>20-24</td>\n",
       "      <td>22.0</td>\n",
       "      <td>3</td>\n",
       "      <td>True</td>\n",
       "      <td>17.216667</td>\n",
       "      <td>154</td>\n",
       "      <td>1213743</td>\n",
       "      <td>74.93</td>\n",
       "    </tr>\n",
       "    <tr>\n",
       "      <th>2</th>\n",
       "      <td>Jim LURKINS</td>\n",
       "      <td>Male</td>\n",
       "      <td>Stragglers</td>\n",
       "      <td>17.433333</td>\n",
       "      <td>S</td>\n",
       "      <td>30-34</td>\n",
       "      <td>32.0</td>\n",
       "      <td>4</td>\n",
       "      <td>False</td>\n",
       "      <td>16.966667</td>\n",
       "      <td>130</td>\n",
       "      <td>356152</td>\n",
       "      <td>74.38</td>\n",
       "    </tr>\n",
       "    <tr>\n",
       "      <th>3</th>\n",
       "      <td>Rodney Howard MCCULLOCH</td>\n",
       "      <td>Male</td>\n",
       "      <td>SHAEF Shifters</td>\n",
       "      <td>17.466667</td>\n",
       "      <td>S</td>\n",
       "      <td>30-34</td>\n",
       "      <td>32.0</td>\n",
       "      <td>5</td>\n",
       "      <td>False</td>\n",
       "      <td>17.266667</td>\n",
       "      <td>275</td>\n",
       "      <td>56540</td>\n",
       "      <td>75.10</td>\n",
       "    </tr>\n",
       "    <tr>\n",
       "      <th>4</th>\n",
       "      <td>Robert EVESON</td>\n",
       "      <td>Male</td>\n",
       "      <td>St Mary's Richmond AC</td>\n",
       "      <td>17.516667</td>\n",
       "      <td>S</td>\n",
       "      <td>20-24</td>\n",
       "      <td>22.0</td>\n",
       "      <td>6</td>\n",
       "      <td>False</td>\n",
       "      <td>16.083333</td>\n",
       "      <td>369</td>\n",
       "      <td>6519</td>\n",
       "      <td>73.64</td>\n",
       "    </tr>\n",
       "  </tbody>\n",
       "</table>\n",
       "</div>"
      ],
      "text/plain": [
       "                      name gender                         club       time  \\\n",
       "0                Rowan AXE   Male                  Cardiff AAC  15.500000   \n",
       "1       Stefanos STEPHANOU   Male  Richmond & Zetland Harriers  17.216667   \n",
       "2              Jim LURKINS   Male                   Stragglers  17.433333   \n",
       "3  Rodney Howard MCCULLOCH   Male               SHAEF Shifters  17.466667   \n",
       "4            Robert EVESON   Male        St Mary's Richmond AC  17.516667   \n",
       "\n",
       "  group age_range  mid_age_range  position  bp_first_timer         pb  \\\n",
       "0     S     25-29           27.0         1           False  14.866667   \n",
       "1     S     20-24           22.0         3            True  17.216667   \n",
       "2     S     30-34           32.0         4           False  16.966667   \n",
       "3     S     30-34           32.0         5           False  17.266667   \n",
       "4     S     20-24           22.0         6           False  16.083333   \n",
       "\n",
       "   no_runs  athleteNo age_grade  \n",
       "0       38      51670     83.23  \n",
       "1      154    1213743     74.93  \n",
       "2      130     356152     74.38  \n",
       "3      275      56540     75.10  \n",
       "4      369       6519     73.64  "
      ]
     },
     "execution_count": 24,
     "metadata": {},
     "output_type": "execute_result"
    }
   ],
   "source": [
    "#convert the athlete_list to a panda dataframe\n",
    "import pandas as pd\n",
    "df = pd.DataFrame(athlete_list)\n",
    "\n",
    "\n",
    "#writeout to a csv file and display this dataframe (top 5 entries)\n",
    "df.to_csv(\"bushypark\" + racenumber + \".csv\")\n",
    "df.head(5)"
   ]
  },
  {
   "cell_type": "markdown",
   "metadata": {},
   "source": [
    "It looks like there are a lot of people registered on the ParkRun database (data entry 1 is Parkrun member \n",
    "number 1,213,743) - this could be good news to a sponsor.\n",
    "\n",
    "I'm going to convert the first_timer column from a booleon to a O (False) or 1 (True) in the dataframe, for ease of manipulation"
   ]
  },
  {
   "cell_type": "code",
   "execution_count": 25,
   "metadata": {},
   "outputs": [
    {
     "ename": "SyntaxError",
     "evalue": "invalid syntax (<ipython-input-25-567018d45a91>, line 1)",
     "output_type": "error",
     "traceback": [
      "\u001b[0;36m  File \u001b[0;32m\"<ipython-input-25-567018d45a91>\"\u001b[0;36m, line \u001b[0;32m1\u001b[0m\n\u001b[0;31m    need to look this up\u001b[0m\n\u001b[0m          ^\u001b[0m\n\u001b[0;31mSyntaxError\u001b[0m\u001b[0;31m:\u001b[0m invalid syntax\n"
     ]
    }
   ],
   "source": [
    " need to look this up"
   ]
  },
  {
   "cell_type": "markdown",
   "metadata": {},
   "source": [
    "## Exploratory Data Analysis\n",
    "\n",
    "In the next section I'm going to examine the data to get a feel for the dataset and to start answering some of the questions I posed earlier on.\n",
    "\n",
    "I'm going to use matplotlib[ref], seaborn(ref) and numpy[ref] for my analysis"
   ]
  },
  {
   "cell_type": "code",
   "execution_count": 26,
   "metadata": {},
   "outputs": [],
   "source": [
    "import numpy as np\n",
    "\n",
    "import matplotlib.pyplot as plt\n",
    "import seaborn as sns\n",
    "%matplotlib inline"
   ]
  },
  {
   "cell_type": "markdown",
   "metadata": {},
   "source": [
    "#### Gender Split"
   ]
  },
  {
   "cell_type": "code",
   "execution_count": 27,
   "metadata": {},
   "outputs": [
    {
     "data": {
      "image/png": "[encoded data removed]",
      "text/plain": [
       "<Figure size 432x288 with 1 Axes>"
      ]
     },
     "metadata": {
      "needs_background": "light"
     },
     "output_type": "display_data"
    }
   ],
   "source": [
    "plt.figure(figsize=(6,4))\n",
    "plt.hist(df['gender'], bins=2,edgecolor = 'black')\n",
    "plt.title('Gender of Runners')\n",
    "plt.xlabel('Gender')\n",
    "plt.ylabel('Frequency')\n",
    "plt.show()"
   ]
  },
  {
   "cell_type": "markdown",
   "metadata": {},
   "source": [
    "From this graph, there is an appoximately 45:55 female to male split in the runner population\n",
    "\n",
    "#### Age Distribution"
   ]
  },
  {
   "cell_type": "code",
   "execution_count": 28,
   "metadata": {},
   "outputs": [
    {
     "data": {
      "image/png": "[encoded data removed]",
      "text/plain": [
       "<Figure size 576x288 with 1 Axes>"
      ]
     },
     "metadata": {
      "needs_background": "light"
     },
     "output_type": "display_data"
    }
   ],
   "source": [
    "bins = (5,15,25,35,45,55,65,75,85)\n",
    "plt.figure(figsize=(8,4))\n",
    "plt.hist(df['mid_age_range'],bins = bins, edgecolor = 'black')\n",
    "plt.title('Ages of Runners')\n",
    "plt.xlabel('Age')\n",
    "plt.ylabel('Frequency')\n",
    "plt.show()"
   ]
  },
  {
   "cell_type": "markdown",
   "metadata": {},
   "source": [
    "Maybe some what surprisingly, the runner population is scued towards an older demographic (40-60) than one may expect for an athletic style event\n",
    "\n",
    "#### Members of a Cliub"
   ]
  },
  {
   "cell_type": "code",
   "execution_count": 29,
   "metadata": {},
   "outputs": [
    {
     "data": {
      "text/plain": [
       "None                 78.717407\n",
       "Stragglers            4.369274\n",
       "SHAEF Shifters        1.268499\n",
       "Ranelagh Harriers     0.916138\n",
       "26.2 RRC              0.704722\n",
       "Name: club, dtype: float64"
      ]
     },
     "execution_count": 29,
     "metadata": {},
     "output_type": "execute_result"
    }
   ],
   "source": [
    "(df['club'].value_counts('None')*100).head()"
   ]
  },
  {
   "cell_type": "markdown",
   "metadata": {},
   "source": [
    "Most (78.7%) attendees are are not memebrs of a club. The top clubs represented are all local to Bushy Park.\n",
    "\n",
    "#### Attendance at Parkrun Event"
   ]
  },
  {
   "cell_type": "code",
   "execution_count": 30,
   "metadata": {},
   "outputs": [
    {
     "data": {
      "image/png": "[encoded data removed]",
      "text/plain": [
       "<Figure size 576x288 with 1 Axes>"
      ]
     },
     "metadata": {
      "needs_background": "light"
     },
     "output_type": "display_data"
    }
   ],
   "source": [
    "bins = (0,15,50,100,150,200,250,300,350,400,450,500)\n",
    "plt.figure(figsize=(8,4))\n",
    "plt.hist(df['no_runs'],bins=bins, edgecolor = 'black')\n",
    "plt.title('Number of Parkruns Completed')\n",
    "plt.xlabel('Number')\n",
    "plt.ylabel('Frequency')\n",
    "plt.show()"
   ]
  },
  {
   "cell_type": "code",
   "execution_count": 31,
   "metadata": {
    "scrolled": true
   },
   "outputs": [
    {
     "data": {
      "text/plain": [
       "False    87.526427\n",
       "True     12.473573\n",
       "Name: bp_first_timer, dtype: float64"
      ]
     },
     "execution_count": 31,
     "metadata": {},
     "output_type": "execute_result"
    }
   ],
   "source": [
    "df['bp_first_timer'].value_counts('True')*100"
   ]
  },
  {
   "cell_type": "code",
   "execution_count": 32,
   "metadata": {},
   "outputs": [
    {
     "data": {
      "image/png": "[encoded data removed]",
      "text/plain": [
       "<Figure size 720x432 with 1 Axes>"
      ]
     },
     "metadata": {},
     "output_type": "display_data"
    }
   ],
   "source": [
    "sns.set(rc={'figure.figsize':(10,6)})\n",
    "sns.set_context(\"notebook\",font_scale=1.5, rc={\"lines.linewidth\":2.5})\n",
    "sns.set_style(\"whitegrid\")\n",
    "fig = sns.boxplot(data=df,x ='bp_first_timer',y = 'no_runs', hue='gender')\n",
    "plt.xlabel(\"First Time at Bushy Park? (True or False)\")\n",
    "plt.ylabel(\"Total Number of ParkRuns Completed\")\n",
    "plt.title(\"Number of ParkRuns Completed\")\n",
    "plt.show(fig)"
   ]
  },
  {
   "cell_type": "markdown",
   "metadata": {},
   "source": [
    "12.5% of runners were new to the Bushy Parkrun event, however the graph shows than the 25 percential for these runners is around 80 other Parkrun events, indicating that they have been attending events elsewhere before this date.\n",
    "\n",
    "Runners who have been to this event before had on average been to around 70 Parkrun, with the 25 percential at over 150.\n",
    "\n",
    "\n",
    "Parkrun in general, and Bushy Parkruns in particular, are clearly keen partipants at these events\n",
    "\n",
    "#### Time vs Personal Best (PB)"
   ]
  },
  {
   "cell_type": "code",
   "execution_count": 33,
   "metadata": {},
   "outputs": [
    {
     "data": {
      "image/png": "[encoded data removed]",
      "text/plain": [
       "<Figure size 720x432 with 1 Axes>"
      ]
     },
     "metadata": {},
     "output_type": "display_data"
    }
   ],
   "source": [
    "plt.scatter(x=df['time'],y=df['pb'])\n",
    "plt.title('PB times vs Race Time')\n",
    "\n",
    "plt.xlabel('Race Time (in minutes)')\n",
    "plt.ylabel('Personal Bests (in minutes)')\n",
    "\n",
    "plt.show()"
   ]
  },
  {
   "cell_type": "code",
   "execution_count": 34,
   "metadata": {},
   "outputs": [
    {
     "name": "stdout",
     "output_type": "stream",
     "text": [
      "161.94503171247482\n"
     ]
    }
   ],
   "source": [
    "time_mean = np.mean(df[\"time\"])\n",
    "pb_mean = np.mean(df[\"pb\"])\n",
    "print((time_mean-pb_mean)*60)"
   ]
  },
  {
   "cell_type": "markdown",
   "metadata": {},
   "source": [
    "The average participant ran 162 secs slower than their PB at the Bushy Parkun Event"
   ]
  },
  {
   "cell_type": "markdown",
   "metadata": {},
   "source": [
    "## Comparison with data from the Summer\n",
    "\n",
    "I have previously saved data from a summer race (No.798 on 20/07/2018) into a csv file called bushypark798.csv. This file was also created riunning this notebook.\n",
    "\n",
    "#### Reading in the summer data from a .csv file\n",
    "\n",
    "I will now read that file into a new df called df_summer. "
   ]
  },
  {
   "cell_type": "code",
   "execution_count": 35,
   "metadata": {},
   "outputs": [
    {
     "ename": "FileNotFoundError",
     "evalue": "[Errno 2] No such file or directory: 'bushypark798.csv'",
     "output_type": "error",
     "traceback": [
      "\u001b[0;31m---------------------------------------------------------------------------\u001b[0m",
      "\u001b[0;31mFileNotFoundError\u001b[0m                         Traceback (most recent call last)",
      "\u001b[0;32m<ipython-input-35-27d41955f514>\u001b[0m in \u001b[0;36m<module>\u001b[0;34m\u001b[0m\n\u001b[0;32m----> 1\u001b[0;31m \u001b[0mdf_summer\u001b[0m \u001b[0;34m=\u001b[0m \u001b[0mpd\u001b[0m\u001b[0;34m.\u001b[0m\u001b[0mread_csv\u001b[0m\u001b[0;34m(\u001b[0m\u001b[0;34m'bushypark798.csv'\u001b[0m\u001b[0;34m)\u001b[0m\u001b[0;34m\u001b[0m\u001b[0;34m\u001b[0m\u001b[0m\n\u001b[0m\u001b[1;32m      2\u001b[0m \u001b[0mdf_summer\u001b[0m \u001b[0;34m=\u001b[0m \u001b[0mdf_summer\u001b[0m\u001b[0;34m.\u001b[0m\u001b[0mdrop\u001b[0m\u001b[0;34m(\u001b[0m\u001b[0mdf_summer\u001b[0m\u001b[0;34m.\u001b[0m\u001b[0mcolumns\u001b[0m\u001b[0;34m[\u001b[0m\u001b[0;34m[\u001b[0m\u001b[0;36m0\u001b[0m\u001b[0;34m,\u001b[0m\u001b[0;36m2\u001b[0m\u001b[0;34m,\u001b[0m\u001b[0;36m3\u001b[0m\u001b[0;34m,\u001b[0m\u001b[0;36m5\u001b[0m\u001b[0;34m,\u001b[0m\u001b[0;36m6\u001b[0m\u001b[0;34m,\u001b[0m\u001b[0;36m7\u001b[0m\u001b[0;34m,\u001b[0m\u001b[0;36m8\u001b[0m\u001b[0;34m,\u001b[0m\u001b[0;36m9\u001b[0m\u001b[0;34m,\u001b[0m\u001b[0;36m11\u001b[0m\u001b[0;34m,\u001b[0m\u001b[0;36m13\u001b[0m\u001b[0;34m]\u001b[0m\u001b[0;34m]\u001b[0m\u001b[0;34m,\u001b[0m \u001b[0maxis\u001b[0m\u001b[0;34m=\u001b[0m\u001b[0;36m1\u001b[0m\u001b[0;34m)\u001b[0m\u001b[0;34m\u001b[0m\u001b[0;34m\u001b[0m\u001b[0m\n\u001b[1;32m      3\u001b[0m \u001b[0mdf_summer\u001b[0m \u001b[0;34m=\u001b[0m \u001b[0mdf_summer\u001b[0m\u001b[0;34m.\u001b[0m\u001b[0mrename\u001b[0m\u001b[0;34m(\u001b[0m\u001b[0mcolumns\u001b[0m\u001b[0;34m=\u001b[0m\u001b[0;34m{\u001b[0m\u001b[0;34m'time'\u001b[0m\u001b[0;34m:\u001b[0m \u001b[0;34m'time_summer'\u001b[0m\u001b[0;34m,\u001b[0m \u001b[0;34m'pb'\u001b[0m\u001b[0;34m:\u001b[0m \u001b[0;34m'pb_summer'\u001b[0m\u001b[0;34m,\u001b[0m \u001b[0;34m'name'\u001b[0m\u001b[0;34m:\u001b[0m \u001b[0;34m'name_summer'\u001b[0m\u001b[0;34m}\u001b[0m\u001b[0;34m)\u001b[0m\u001b[0;34m\u001b[0m\u001b[0;34m\u001b[0m\u001b[0m\n\u001b[1;32m      4\u001b[0m \u001b[0;34m\u001b[0m\u001b[0m\n\u001b[1;32m      5\u001b[0m \u001b[0mdf_summer\u001b[0m\u001b[0;34m.\u001b[0m\u001b[0mhead\u001b[0m\u001b[0;34m(\u001b[0m\u001b[0;34m)\u001b[0m\u001b[0;34m\u001b[0m\u001b[0;34m\u001b[0m\u001b[0m\n",
      "\u001b[0;32m/opt/anaconda3/lib/python3.7/site-packages/pandas/io/parsers.py\u001b[0m in \u001b[0;36mread_csv\u001b[0;34m(filepath_or_buffer, sep, delimiter, header, names, index_col, usecols, squeeze, prefix, mangle_dupe_cols, dtype, engine, converters, true_values, false_values, skipinitialspace, skiprows, skipfooter, nrows, na_values, keep_default_na, na_filter, verbose, skip_blank_lines, parse_dates, infer_datetime_format, keep_date_col, date_parser, dayfirst, cache_dates, iterator, chunksize, compression, thousands, decimal, lineterminator, quotechar, quoting, doublequote, escapechar, comment, encoding, dialect, error_bad_lines, warn_bad_lines, delim_whitespace, low_memory, memory_map, float_precision)\u001b[0m\n\u001b[1;32m    684\u001b[0m     )\n\u001b[1;32m    685\u001b[0m \u001b[0;34m\u001b[0m\u001b[0m\n\u001b[0;32m--> 686\u001b[0;31m     \u001b[0;32mreturn\u001b[0m \u001b[0m_read\u001b[0m\u001b[0;34m(\u001b[0m\u001b[0mfilepath_or_buffer\u001b[0m\u001b[0;34m,\u001b[0m \u001b[0mkwds\u001b[0m\u001b[0;34m)\u001b[0m\u001b[0;34m\u001b[0m\u001b[0;34m\u001b[0m\u001b[0m\n\u001b[0m\u001b[1;32m    687\u001b[0m \u001b[0;34m\u001b[0m\u001b[0m\n\u001b[1;32m    688\u001b[0m \u001b[0;34m\u001b[0m\u001b[0m\n",
      "\u001b[0;32m/opt/anaconda3/lib/python3.7/site-packages/pandas/io/parsers.py\u001b[0m in \u001b[0;36m_read\u001b[0;34m(filepath_or_buffer, kwds)\u001b[0m\n\u001b[1;32m    450\u001b[0m \u001b[0;34m\u001b[0m\u001b[0m\n\u001b[1;32m    451\u001b[0m     \u001b[0;31m# Create the parser.\u001b[0m\u001b[0;34m\u001b[0m\u001b[0;34m\u001b[0m\u001b[0;34m\u001b[0m\u001b[0m\n\u001b[0;32m--> 452\u001b[0;31m     \u001b[0mparser\u001b[0m \u001b[0;34m=\u001b[0m \u001b[0mTextFileReader\u001b[0m\u001b[0;34m(\u001b[0m\u001b[0mfp_or_buf\u001b[0m\u001b[0;34m,\u001b[0m \u001b[0;34m**\u001b[0m\u001b[0mkwds\u001b[0m\u001b[0;34m)\u001b[0m\u001b[0;34m\u001b[0m\u001b[0;34m\u001b[0m\u001b[0m\n\u001b[0m\u001b[1;32m    453\u001b[0m \u001b[0;34m\u001b[0m\u001b[0m\n\u001b[1;32m    454\u001b[0m     \u001b[0;32mif\u001b[0m \u001b[0mchunksize\u001b[0m \u001b[0;32mor\u001b[0m \u001b[0miterator\u001b[0m\u001b[0;34m:\u001b[0m\u001b[0;34m\u001b[0m\u001b[0;34m\u001b[0m\u001b[0m\n",
      "\u001b[0;32m/opt/anaconda3/lib/python3.7/site-packages/pandas/io/parsers.py\u001b[0m in \u001b[0;36m__init__\u001b[0;34m(self, f, engine, **kwds)\u001b[0m\n\u001b[1;32m    934\u001b[0m             \u001b[0mself\u001b[0m\u001b[0;34m.\u001b[0m\u001b[0moptions\u001b[0m\u001b[0;34m[\u001b[0m\u001b[0;34m\"has_index_names\"\u001b[0m\u001b[0;34m]\u001b[0m \u001b[0;34m=\u001b[0m \u001b[0mkwds\u001b[0m\u001b[0;34m[\u001b[0m\u001b[0;34m\"has_index_names\"\u001b[0m\u001b[0;34m]\u001b[0m\u001b[0;34m\u001b[0m\u001b[0;34m\u001b[0m\u001b[0m\n\u001b[1;32m    935\u001b[0m \u001b[0;34m\u001b[0m\u001b[0m\n\u001b[0;32m--> 936\u001b[0;31m         \u001b[0mself\u001b[0m\u001b[0;34m.\u001b[0m\u001b[0m_make_engine\u001b[0m\u001b[0;34m(\u001b[0m\u001b[0mself\u001b[0m\u001b[0;34m.\u001b[0m\u001b[0mengine\u001b[0m\u001b[0;34m)\u001b[0m\u001b[0;34m\u001b[0m\u001b[0;34m\u001b[0m\u001b[0m\n\u001b[0m\u001b[1;32m    937\u001b[0m \u001b[0;34m\u001b[0m\u001b[0m\n\u001b[1;32m    938\u001b[0m     \u001b[0;32mdef\u001b[0m \u001b[0mclose\u001b[0m\u001b[0;34m(\u001b[0m\u001b[0mself\u001b[0m\u001b[0;34m)\u001b[0m\u001b[0;34m:\u001b[0m\u001b[0;34m\u001b[0m\u001b[0;34m\u001b[0m\u001b[0m\n",
      "\u001b[0;32m/opt/anaconda3/lib/python3.7/site-packages/pandas/io/parsers.py\u001b[0m in \u001b[0;36m_make_engine\u001b[0;34m(self, engine)\u001b[0m\n\u001b[1;32m   1166\u001b[0m     \u001b[0;32mdef\u001b[0m \u001b[0m_make_engine\u001b[0m\u001b[0;34m(\u001b[0m\u001b[0mself\u001b[0m\u001b[0;34m,\u001b[0m \u001b[0mengine\u001b[0m\u001b[0;34m=\u001b[0m\u001b[0;34m\"c\"\u001b[0m\u001b[0;34m)\u001b[0m\u001b[0;34m:\u001b[0m\u001b[0;34m\u001b[0m\u001b[0;34m\u001b[0m\u001b[0m\n\u001b[1;32m   1167\u001b[0m         \u001b[0;32mif\u001b[0m \u001b[0mengine\u001b[0m \u001b[0;34m==\u001b[0m \u001b[0;34m\"c\"\u001b[0m\u001b[0;34m:\u001b[0m\u001b[0;34m\u001b[0m\u001b[0;34m\u001b[0m\u001b[0m\n\u001b[0;32m-> 1168\u001b[0;31m             \u001b[0mself\u001b[0m\u001b[0;34m.\u001b[0m\u001b[0m_engine\u001b[0m \u001b[0;34m=\u001b[0m \u001b[0mCParserWrapper\u001b[0m\u001b[0;34m(\u001b[0m\u001b[0mself\u001b[0m\u001b[0;34m.\u001b[0m\u001b[0mf\u001b[0m\u001b[0;34m,\u001b[0m \u001b[0;34m**\u001b[0m\u001b[0mself\u001b[0m\u001b[0;34m.\u001b[0m\u001b[0moptions\u001b[0m\u001b[0;34m)\u001b[0m\u001b[0;34m\u001b[0m\u001b[0;34m\u001b[0m\u001b[0m\n\u001b[0m\u001b[1;32m   1169\u001b[0m         \u001b[0;32melse\u001b[0m\u001b[0;34m:\u001b[0m\u001b[0;34m\u001b[0m\u001b[0;34m\u001b[0m\u001b[0m\n\u001b[1;32m   1170\u001b[0m             \u001b[0;32mif\u001b[0m \u001b[0mengine\u001b[0m \u001b[0;34m==\u001b[0m \u001b[0;34m\"python\"\u001b[0m\u001b[0;34m:\u001b[0m\u001b[0;34m\u001b[0m\u001b[0;34m\u001b[0m\u001b[0m\n",
      "\u001b[0;32m/opt/anaconda3/lib/python3.7/site-packages/pandas/io/parsers.py\u001b[0m in \u001b[0;36m__init__\u001b[0;34m(self, src, **kwds)\u001b[0m\n\u001b[1;32m   1996\u001b[0m         \u001b[0mkwds\u001b[0m\u001b[0;34m[\u001b[0m\u001b[0;34m\"usecols\"\u001b[0m\u001b[0;34m]\u001b[0m \u001b[0;34m=\u001b[0m \u001b[0mself\u001b[0m\u001b[0;34m.\u001b[0m\u001b[0musecols\u001b[0m\u001b[0;34m\u001b[0m\u001b[0;34m\u001b[0m\u001b[0m\n\u001b[1;32m   1997\u001b[0m \u001b[0;34m\u001b[0m\u001b[0m\n\u001b[0;32m-> 1998\u001b[0;31m         \u001b[0mself\u001b[0m\u001b[0;34m.\u001b[0m\u001b[0m_reader\u001b[0m \u001b[0;34m=\u001b[0m \u001b[0mparsers\u001b[0m\u001b[0;34m.\u001b[0m\u001b[0mTextReader\u001b[0m\u001b[0;34m(\u001b[0m\u001b[0msrc\u001b[0m\u001b[0;34m,\u001b[0m \u001b[0;34m**\u001b[0m\u001b[0mkwds\u001b[0m\u001b[0;34m)\u001b[0m\u001b[0;34m\u001b[0m\u001b[0;34m\u001b[0m\u001b[0m\n\u001b[0m\u001b[1;32m   1999\u001b[0m         \u001b[0mself\u001b[0m\u001b[0;34m.\u001b[0m\u001b[0munnamed_cols\u001b[0m \u001b[0;34m=\u001b[0m \u001b[0mself\u001b[0m\u001b[0;34m.\u001b[0m\u001b[0m_reader\u001b[0m\u001b[0;34m.\u001b[0m\u001b[0munnamed_cols\u001b[0m\u001b[0;34m\u001b[0m\u001b[0;34m\u001b[0m\u001b[0m\n\u001b[1;32m   2000\u001b[0m \u001b[0;34m\u001b[0m\u001b[0m\n",
      "\u001b[0;32mpandas/_libs/parsers.pyx\u001b[0m in \u001b[0;36mpandas._libs.parsers.TextReader.__cinit__\u001b[0;34m()\u001b[0m\n",
      "\u001b[0;32mpandas/_libs/parsers.pyx\u001b[0m in \u001b[0;36mpandas._libs.parsers.TextReader._setup_parser_source\u001b[0;34m()\u001b[0m\n",
      "\u001b[0;31mFileNotFoundError\u001b[0m: [Errno 2] No such file or directory: 'bushypark798.csv'"
     ]
    }
   ],
   "source": [
    "df_summer = pd.read_csv('bushypark798.csv')\n",
    "df_summer = df_summer.drop(df_summer.columns[[0,2,3,5,6,7,8,9,11,13]], axis=1)\n",
    "df_summer = df_summer.rename(columns={'time': 'time_summer', 'pb': 'pb_summer', 'name': 'name_summer'})\n",
    "\n",
    "df_summer.head()"
   ]
  },
  {
   "cell_type": "markdown",
   "metadata": {},
   "source": [
    "#### Merging the two dataframes on a common string\n",
    "\n",
    "Next, I will join the two dfs where they have the same runner present (using the 'athleteNo' column)"
   ]
  },
  {
   "cell_type": "code",
   "execution_count": 36,
   "metadata": {},
   "outputs": [
    {
     "ename": "NameError",
     "evalue": "name 'df_summer' is not defined",
     "output_type": "error",
     "traceback": [
      "\u001b[0;31m---------------------------------------------------------------------------\u001b[0m",
      "\u001b[0;31mNameError\u001b[0m                                 Traceback (most recent call last)",
      "\u001b[0;32m<ipython-input-36-dc9f7950ae83>\u001b[0m in \u001b[0;36m<module>\u001b[0;34m\u001b[0m\n\u001b[0;32m----> 1\u001b[0;31m \u001b[0mcompared_races\u001b[0m \u001b[0;34m=\u001b[0m \u001b[0mpd\u001b[0m\u001b[0;34m.\u001b[0m\u001b[0mmerge\u001b[0m\u001b[0;34m(\u001b[0m\u001b[0mdf\u001b[0m\u001b[0;34m,\u001b[0m\u001b[0mdf_summer\u001b[0m\u001b[0;34m,\u001b[0m\u001b[0mon\u001b[0m\u001b[0;34m=\u001b[0m\u001b[0;34m'athleteNo'\u001b[0m\u001b[0;34m)\u001b[0m\u001b[0;34m\u001b[0m\u001b[0;34m\u001b[0m\u001b[0m\n\u001b[0m\u001b[1;32m      2\u001b[0m \u001b[0mcompared_races\u001b[0m \u001b[0;34m=\u001b[0m \u001b[0mcompared_races\u001b[0m\u001b[0;34m.\u001b[0m\u001b[0mrename\u001b[0m\u001b[0;34m(\u001b[0m\u001b[0mcolumns\u001b[0m\u001b[0;34m=\u001b[0m\u001b[0;34m{\u001b[0m\u001b[0;34m'time'\u001b[0m\u001b[0;34m:\u001b[0m \u001b[0;34m'time_winter'\u001b[0m\u001b[0;34m,\u001b[0m \u001b[0;34m'name'\u001b[0m\u001b[0;34m:\u001b[0m \u001b[0;34m'name_winter'\u001b[0m\u001b[0;34m}\u001b[0m\u001b[0;34m)\u001b[0m\u001b[0;34m\u001b[0m\u001b[0;34m\u001b[0m\u001b[0m\n\u001b[1;32m      3\u001b[0m \u001b[0;34m\u001b[0m\u001b[0m\n\u001b[1;32m      4\u001b[0m \u001b[0;34m\u001b[0m\u001b[0m\n\u001b[1;32m      5\u001b[0m \u001b[0mcompared_races\u001b[0m\u001b[0;34m[\u001b[0m\u001b[0;34m[\u001b[0m\u001b[0;34m'athleteNo'\u001b[0m\u001b[0;34m,\u001b[0m\u001b[0;34m'time_winter'\u001b[0m\u001b[0;34m,\u001b[0m\u001b[0;34m'time_summer'\u001b[0m\u001b[0;34m,\u001b[0m\u001b[0;34m'name_summer'\u001b[0m\u001b[0;34m,\u001b[0m\u001b[0;34m'name_winter'\u001b[0m\u001b[0;34m]\u001b[0m\u001b[0;34m]\u001b[0m\u001b[0;34m.\u001b[0m\u001b[0mhead\u001b[0m\u001b[0;34m(\u001b[0m\u001b[0;36m5\u001b[0m\u001b[0;34m)\u001b[0m\u001b[0;34m\u001b[0m\u001b[0;34m\u001b[0m\u001b[0m\n",
      "\u001b[0;31mNameError\u001b[0m: name 'df_summer' is not defined"
     ]
    }
   ],
   "source": [
    "compared_races = pd.merge(df,df_summer,on='athleteNo')\n",
    "compared_races = compared_races.rename(columns={'time': 'time_winter', 'name': 'name_winter'})\n",
    "\n",
    "\n",
    "compared_races[['athleteNo','time_winter','time_summer','name_summer','name_winter']].head(5)                                   "
   ]
  },
  {
   "cell_type": "markdown",
   "metadata": {},
   "source": [
    "#### Analysing this comparison dataset"
   ]
  },
  {
   "cell_type": "code",
   "execution_count": null,
   "metadata": {},
   "outputs": [],
   "source": [
    "plt.scatter(x=compared_races['time_winter'],y=compared_races['time_summer'])\n",
    "plt.title('Summer vs Winter')\n",
    "\n",
    "plt.xlabel('Winter Time (in minutes)')\n",
    "plt.ylabel('Summer TIme (in minutes)')\n",
    "\n",
    "plt.show()"
   ]
  },
  {
   "cell_type": "code",
   "execution_count": null,
   "metadata": {},
   "outputs": [],
   "source": [
    "time_winter = np.mean(compared_races[\"time_winter\"])\n",
    "time_summer = np.mean(compared_races[\"time_summer\"])\n",
    "print((time_winter-time_summer)*60)"
   ]
  },
  {
   "cell_type": "markdown",
   "metadata": {},
   "source": [
    "Of the 330 people who ran both in the summer and the winter (330 people), the average different in time taken was around 15secs, with the winter runs being slightly faster than the summer one. \n",
    "\n",
    "This difference could be due to:\n",
    " - people who are running both times being more dedicated and thus improving over time.\n",
    " - an effect of better training during times off work. (The winter event was just over the christmas holidays).\n",
    " - maybe some people are taking their dogs out with them in the summer, which is having the effect of slowing them down!"
   ]
  },
  {
   "cell_type": "markdown",
   "metadata": {},
   "source": [
    "### Conclusions"
   ]
  },
  {
   "cell_type": "markdown",
   "metadata": {},
   "source": [
    "### References\n",
    "\n",
    "(1) Telegraph article on Parkrun by Jessica Salter 28 September 2019. https://www.telegraph.co.uk/health-fitness/body/parkrun-nation-community-fun-runners-conquered-britain-world/\n",
    "\n",
    "(2) The story of Parkrun, from the official Parkrun website. https://www.parkrun.com/about/our-story/\n",
    "\n",
    "(3) Regular Expressions (Regex) manual for Python. https://docs.python.org/3/howto/regex.html"
   ]
  },
  {
   "cell_type": "code",
   "execution_count": null,
   "metadata": {},
   "outputs": [],
   "source": []
  }
 ],
 "metadata": {
  "kernelspec": {
   "display_name": "Python 3",
   "language": "python",
   "name": "python3"
  },
  "language_info": {
   "codemirror_mode": {
    "name": "ipython",
    "version": 3
   },
   "file_extension": ".py",
   "mimetype": "text/x-python",
   "name": "python",
   "nbconvert_exporter": "python",
   "pygments_lexer": "ipython3",
   "version": "3.7.7"
  }
 },
 "nbformat": 4,
 "nbformat_minor": 4
}
